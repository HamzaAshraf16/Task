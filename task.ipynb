{
 "cells": [
  {
   "cell_type": "code",
   "execution_count": 4,
   "id": "21ffd4df",
   "metadata": {},
   "outputs": [
    {
     "name": "stdout",
     "output_type": "stream",
     "text": [
      "410.17362555939997\n",
      "155.06947728710003\n",
      "89.04767922330001\n",
      "149.05105008089998\n",
      "0.0\n",
      "89.04767922330001\n",
      "482.21588581460003\n"
     ]
    }
   ],
   "source": [
    "from pyopenms import *\n",
    "s = AASequence.fromString(\"HAMZA\")\n",
    "total_sum = s.getMonoWeight()\n",
    "print (total_sum)\n",
    "\n",
    "s1 = AASequence.fromString(\"H\")\n",
    "sum1 = s1.getMonoWeight()\n",
    "print (sum1)\n",
    "\n",
    "s2 = AASequence.fromString(\"A\")\n",
    "sum2 = s2.getMonoWeight()\n",
    "print (sum2)\n",
    "\n",
    "s3 = AASequence.fromString(\"M\")\n",
    "sum3 = s3.getMonoWeight()\n",
    "print (sum3)\n",
    "\n",
    "s4 = AASequence.fromString(\"Z\")\n",
    "sum4 = s4.getMonoWeight()\n",
    "print (sum4)\n",
    "\n",
    "s5 = AASequence.fromString(\"A\")\n",
    "sum5 = s5.getMonoWeight()\n",
    "print (sum5)\n",
    "\n",
    "total=sum1+sum2+sum3+sum4+sum5\n",
    "print(total)"
   ]
  },
  {
   "cell_type": "code",
   "execution_count": null,
   "id": "edc0fa54",
   "metadata": {},
   "outputs": [],
   "source": []
  },
  {
   "cell_type": "code",
   "execution_count": null,
   "id": "66aba8fd",
   "metadata": {},
   "outputs": [],
   "source": []
  }
 ],
 "metadata": {
  "kernelspec": {
   "display_name": "Python 3 (ipykernel)",
   "language": "python",
   "name": "python3"
  },
  "language_info": {
   "codemirror_mode": {
    "name": "ipython",
    "version": 3
   },
   "file_extension": ".py",
   "mimetype": "text/x-python",
   "name": "python",
   "nbconvert_exporter": "python",
   "pygments_lexer": "ipython3",
   "version": "3.9.7"
  }
 },
 "nbformat": 4,
 "nbformat_minor": 5
}
